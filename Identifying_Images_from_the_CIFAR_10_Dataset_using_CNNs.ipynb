{
  "nbformat": 4,
  "nbformat_minor": 0,
  "metadata": {
    "colab": {
      "name": "Identifying Images from the CIFAR-10 Dataset using CNNs.ipynb",
      "provenance": []
    },
    "kernelspec": {
      "name": "python3",
      "display_name": "Python 3"
    },
    "accelerator": "GPU"
  },
  "cells": [
    {
      "cell_type": "code",
      "metadata": {
        "id": "9gw8qrTKv-zV",
        "colab_type": "code",
        "colab": {}
      },
      "source": [
        "from keras.datasets import cifar10\n",
        "# loading the dataset \n",
        "(X_train, y_train), (X_test, y_test) = cifar10.load_data()"
      ],
      "execution_count": 35,
      "outputs": []
    },
    {
      "cell_type": "markdown",
      "metadata": {
        "id": "WsnKIb7lwWIS",
        "colab_type": "text"
      },
      "source": [
        "# keras imports for the dataset and building our neural network\n"
      ]
    },
    {
      "cell_type": "code",
      "metadata": {
        "id": "7frg4XqawIs6",
        "colab_type": "code",
        "colab": {}
      },
      "source": [
        "from keras.datasets import cifar10\n",
        "from keras.models import Sequential\n",
        "from keras.layers import Dense, Dropout, Conv2D, MaxPool2D, Flatten\n",
        "from keras.utils import np_utils"
      ],
      "execution_count": 36,
      "outputs": []
    },
    {
      "cell_type": "markdown",
      "metadata": {
        "id": "SlGEeFV7wbKf",
        "colab_type": "text"
      },
      "source": [
        "# loading the dataset\n",
        "\n"
      ]
    },
    {
      "cell_type": "code",
      "metadata": {
        "id": "7Kpxpu6SwYe7",
        "colab_type": "code",
        "colab": {}
      },
      "source": [
        "(X_train, y_train), (X_test, y_test) = cifar10.load_data()"
      ],
      "execution_count": 37,
      "outputs": []
    },
    {
      "cell_type": "markdown",
      "metadata": {
        "id": "Tl-7EDEEwgp9",
        "colab_type": "text"
      },
      "source": [
        "#  building the input vector from the 32x32 pixels"
      ]
    },
    {
      "cell_type": "code",
      "metadata": {
        "id": "t7j1q9t6wd4N",
        "colab_type": "code",
        "colab": {}
      },
      "source": [
        "X_train = X_train.reshape(X_train.shape[0], 32, 32, 3)\n",
        "X_test = X_test.reshape(X_test.shape[0], 32, 32, 3)\n",
        "X_train = X_train.astype('float32')\n",
        "X_test = X_test.astype('float32')\n"
      ],
      "execution_count": 38,
      "outputs": []
    },
    {
      "cell_type": "markdown",
      "metadata": {
        "id": "gfYQzg7PwolN",
        "colab_type": "text"
      },
      "source": [
        "# normalizing the data to help with the training"
      ]
    },
    {
      "cell_type": "code",
      "metadata": {
        "id": "_-6w0j-LwlNy",
        "colab_type": "code",
        "colab": {}
      },
      "source": [
        "\n",
        "X_train /= 255\n",
        "X_test /= 255"
      ],
      "execution_count": 39,
      "outputs": []
    },
    {
      "cell_type": "markdown",
      "metadata": {
        "id": "cyDBXpvVwtQ-",
        "colab_type": "text"
      },
      "source": [
        "# one-hot encoding using keras' numpy-related utilities\n",
        "\n"
      ]
    },
    {
      "cell_type": "code",
      "metadata": {
        "id": "VGREG7kswrGH",
        "colab_type": "code",
        "colab": {
          "base_uri": "https://localhost:8080/",
          "height": 50
        },
        "outputId": "993a1939-bcbe-4a15-d4e5-8f9d59b9b6f4"
      },
      "source": [
        "n_classes = 10\n",
        "print(\"Shape before one-hot encoding: \", y_train.shape)\n",
        "Y_train = np_utils.to_categorical(y_train, n_classes)\n",
        "Y_test = np_utils.to_categorical(y_test, n_classes)\n",
        "print(\"Shape after one-hot encoding: \", Y_train.shape)"
      ],
      "execution_count": 40,
      "outputs": [
        {
          "output_type": "stream",
          "text": [
            "Shape before one-hot encoding:  (50000, 1)\n",
            "Shape after one-hot encoding:  (50000, 10)\n"
          ],
          "name": "stdout"
        }
      ]
    },
    {
      "cell_type": "markdown",
      "metadata": {
        "id": "sbhoFvx0wyeJ",
        "colab_type": "text"
      },
      "source": [
        "# building a linear stack of layers with the sequential model"
      ]
    },
    {
      "cell_type": "code",
      "metadata": {
        "id": "1Sgf4So2wvi0",
        "colab_type": "code",
        "colab": {}
      },
      "source": [
        "model = Sequential()"
      ],
      "execution_count": 41,
      "outputs": []
    },
    {
      "cell_type": "markdown",
      "metadata": {
        "id": "y_IQTzebw2pe",
        "colab_type": "text"
      },
      "source": [
        "# convolutional layer"
      ]
    },
    {
      "cell_type": "code",
      "metadata": {
        "id": "O8kSKYqaw0kt",
        "colab_type": "code",
        "colab": {}
      },
      "source": [
        "model.add(Conv2D(50, kernel_size=(3,3), strides=(1,1), padding='same', activation='relu', input_shape=(32, 32, 3)))\n"
      ],
      "execution_count": 42,
      "outputs": []
    },
    {
      "cell_type": "markdown",
      "metadata": {
        "id": "3HxlfMeIw7Cg",
        "colab_type": "text"
      },
      "source": [
        "#  Adding the convolutional layer"
      ]
    },
    {
      "cell_type": "code",
      "metadata": {
        "id": "gTfEAqUmw6Pj",
        "colab_type": "code",
        "colab": {}
      },
      "source": [
        "model.add(Conv2D(75, kernel_size=(3,3), strides=(1,1), padding='same', activation='relu'))\n",
        "model.add(MaxPool2D(pool_size=(2,2)))\n",
        "model.add(Dropout(0.25))\n"
      ],
      "execution_count": 43,
      "outputs": []
    },
    {
      "cell_type": "code",
      "metadata": {
        "id": "LjUtLvmuw-ic",
        "colab_type": "code",
        "colab": {}
      },
      "source": [
        "model.add(Conv2D(125, kernel_size=(3,3), strides=(1,1), padding='same', activation='relu'))\n",
        "model.add(MaxPool2D(pool_size=(2,2)))\n",
        "model.add(Dropout(0.25))"
      ],
      "execution_count": 44,
      "outputs": []
    },
    {
      "cell_type": "markdown",
      "metadata": {
        "id": "4h-1ZGPJzEMd",
        "colab_type": "text"
      },
      "source": [
        "#adding one more layer of one convolution layer"
      ]
    },
    {
      "cell_type": "code",
      "metadata": {
        "id": "nXTzPzfAyBHm",
        "colab_type": "code",
        "colab": {}
      },
      "source": [
        "model.add(Conv2D(150, kernel_size=(3,3), strides=(1,1), padding='same', activation='relu'))\n",
        "model.add(MaxPool2D(pool_size=(2,2)))\n",
        "model.add(Dropout(0.25))"
      ],
      "execution_count": 45,
      "outputs": []
    },
    {
      "cell_type": "markdown",
      "metadata": {
        "id": "z-shX7eWxFw_",
        "colab_type": "text"
      },
      "source": [
        "# flatten output of conv\n"
      ]
    },
    {
      "cell_type": "code",
      "metadata": {
        "id": "lG5T6odPxA5q",
        "colab_type": "code",
        "colab": {}
      },
      "source": [
        "model.add(Flatten())"
      ],
      "execution_count": 46,
      "outputs": []
    },
    {
      "cell_type": "markdown",
      "metadata": {
        "id": "v8EnReuWxJk2",
        "colab_type": "text"
      },
      "source": [
        "# hidden layer\n"
      ]
    },
    {
      "cell_type": "code",
      "metadata": {
        "id": "jNywUyROxHOJ",
        "colab_type": "code",
        "colab": {}
      },
      "source": [
        "model.add(Dense(500, activation='relu'))\n",
        "model.add(Dropout(0.4))\n",
        "model.add(Dense(250, activation='relu'))\n",
        "model.add(Dropout(0.3))"
      ],
      "execution_count": 47,
      "outputs": []
    },
    {
      "cell_type": "markdown",
      "metadata": {
        "id": "X_EYkQsvz9-i",
        "colab_type": "text"
      },
      "source": [
        "when i add one more hidden layer"
      ]
    },
    {
      "cell_type": "code",
      "metadata": {
        "id": "5BVWGpGH0CCl",
        "colab_type": "code",
        "colab": {}
      },
      "source": [
        "model.add(Dense(300, activation='relu'))\n",
        "model.add(Dropout(0.5))"
      ],
      "execution_count": 49,
      "outputs": []
    },
    {
      "cell_type": "markdown",
      "metadata": {
        "id": "YuZ2zM-vxNw-",
        "colab_type": "text"
      },
      "source": [
        "# output layer\n",
        "\n"
      ]
    },
    {
      "cell_type": "code",
      "metadata": {
        "id": "X79a3_qSxLmY",
        "colab_type": "code",
        "colab": {}
      },
      "source": [
        "model.add(Dense(10, activation='softmax'))"
      ],
      "execution_count": 50,
      "outputs": []
    },
    {
      "cell_type": "markdown",
      "metadata": {
        "id": "bfCh7UvjxUId",
        "colab_type": "text"
      },
      "source": [
        "# compiling the sequential model\n"
      ]
    },
    {
      "cell_type": "code",
      "metadata": {
        "id": "8iPw1yk_xQxX",
        "colab_type": "code",
        "colab": {}
      },
      "source": [
        "model.compile(loss='categorical_crossentropy', metrics=['accuracy'], optimizer='adam')"
      ],
      "execution_count": 51,
      "outputs": []
    },
    {
      "cell_type": "markdown",
      "metadata": {
        "id": "GHb-43VjxYk5",
        "colab_type": "text"
      },
      "source": [
        "# training the model for 10 epochs"
      ]
    },
    {
      "cell_type": "code",
      "metadata": {
        "id": "dFnkWfk4xV3y",
        "colab_type": "code",
        "colab": {
          "base_uri": "https://localhost:8080/",
          "height": 370
        },
        "outputId": "0fb00472-bc54-499a-e39a-0cdbb49ef3e3"
      },
      "source": [
        "model.fit(X_train, Y_train, batch_size=128, epochs=10, validation_data=(X_test, Y_test))"
      ],
      "execution_count": 52,
      "outputs": [
        {
          "output_type": "stream",
          "text": [
            "Epoch 1/10\n",
            "391/391 [==============================] - 9s 22ms/step - loss: 1.7992 - accuracy: 0.3177 - val_loss: 1.3508 - val_accuracy: 0.5012\n",
            "Epoch 2/10\n",
            "391/391 [==============================] - 9s 22ms/step - loss: 1.2917 - accuracy: 0.5328 - val_loss: 1.0718 - val_accuracy: 0.6202\n",
            "Epoch 3/10\n",
            "391/391 [==============================] - 8s 22ms/step - loss: 1.0837 - accuracy: 0.6181 - val_loss: 0.8893 - val_accuracy: 0.6910\n",
            "Epoch 4/10\n",
            "391/391 [==============================] - 9s 22ms/step - loss: 0.9528 - accuracy: 0.6702 - val_loss: 0.8205 - val_accuracy: 0.7140\n",
            "Epoch 5/10\n",
            "391/391 [==============================] - 9s 22ms/step - loss: 0.8723 - accuracy: 0.6977 - val_loss: 0.7719 - val_accuracy: 0.7331\n",
            "Epoch 6/10\n",
            "391/391 [==============================] - 8s 22ms/step - loss: 0.8096 - accuracy: 0.7211 - val_loss: 0.7353 - val_accuracy: 0.7523\n",
            "Epoch 7/10\n",
            "391/391 [==============================] - 8s 22ms/step - loss: 0.7529 - accuracy: 0.7407 - val_loss: 0.7122 - val_accuracy: 0.7553\n",
            "Epoch 8/10\n",
            "391/391 [==============================] - 8s 22ms/step - loss: 0.7144 - accuracy: 0.7551 - val_loss: 0.6622 - val_accuracy: 0.7678\n",
            "Epoch 9/10\n",
            "391/391 [==============================] - 8s 22ms/step - loss: 0.6813 - accuracy: 0.7646 - val_loss: 0.6513 - val_accuracy: 0.7751\n",
            "Epoch 10/10\n",
            "391/391 [==============================] - 8s 22ms/step - loss: 0.6518 - accuracy: 0.7766 - val_loss: 0.6580 - val_accuracy: 0.7748\n"
          ],
          "name": "stdout"
        },
        {
          "output_type": "execute_result",
          "data": {
            "text/plain": [
              "<tensorflow.python.keras.callbacks.History at 0x7f47be604668>"
            ]
          },
          "metadata": {
            "tags": []
          },
          "execution_count": 52
        }
      ]
    },
    {
      "cell_type": "markdown",
      "metadata": {
        "id": "9rJNHAJazM_H",
        "colab_type": "text"
      },
      "source": [
        "**Note**\n",
        "1. When I have add 2 convolution layer than i get the accuracy of 77 % \n",
        "2. when I have added one more convolution layer than i get the accuracy of 80 %\n",
        "3. There is no any improvement in accuracy while adding one more hiddden layer"
      ]
    },
    {
      "cell_type": "code",
      "metadata": {
        "id": "HckIlTyOxadu",
        "colab_type": "code",
        "colab": {}
      },
      "source": [
        ""
      ],
      "execution_count": null,
      "outputs": []
    }
  ]
}