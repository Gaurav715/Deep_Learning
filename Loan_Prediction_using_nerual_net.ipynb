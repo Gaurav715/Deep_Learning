{
  "nbformat": 4,
  "nbformat_minor": 0,
  "metadata": {
    "colab": {
      "name": "Loan_Prediction_using_nerual_net.ipynb",
      "provenance": [],
      "toc_visible": true
    },
    "kernelspec": {
      "name": "python3",
      "display_name": "Python 3"
    },
    "accelerator": "GPU"
  },
  "cells": [
    {
      "cell_type": "markdown",
      "metadata": {
        "id": "-a9J2emOwm8E",
        "colab_type": "text"
      },
      "source": [
        "Loan Prediction \n"
      ]
    },
    {
      "cell_type": "code",
      "metadata": {
        "id": "5rt-7umdwp44",
        "colab_type": "code",
        "colab": {}
      },
      "source": [
        "import numpy as np\n",
        "import pandas as pd\n",
        "import sklearn \n",
        "import matplotlib.pyplot as plt\n",
        "import tensorflow as tf"
      ],
      "execution_count": 37,
      "outputs": []
    },
    {
      "cell_type": "code",
      "metadata": {
        "id": "H9o04qT2wwnU",
        "colab_type": "code",
        "colab": {}
      },
      "source": [
        "data = pd.read_csv(\"loan_prediction_data.csv\")"
      ],
      "execution_count": 38,
      "outputs": []
    },
    {
      "cell_type": "code",
      "metadata": {
        "id": "9ICNsqvsw5Zd",
        "colab_type": "code",
        "colab": {
          "base_uri": "https://localhost:8080/",
          "height": 215
        },
        "outputId": "20e90e99-ead1-4a08-b0cf-16c72cbbcad9"
      },
      "source": [
        "data.head()"
      ],
      "execution_count": 39,
      "outputs": [
        {
          "output_type": "execute_result",
          "data": {
            "text/html": [
              "<div>\n",
              "<style scoped>\n",
              "    .dataframe tbody tr th:only-of-type {\n",
              "        vertical-align: middle;\n",
              "    }\n",
              "\n",
              "    .dataframe tbody tr th {\n",
              "        vertical-align: top;\n",
              "    }\n",
              "\n",
              "    .dataframe thead th {\n",
              "        text-align: right;\n",
              "    }\n",
              "</style>\n",
              "<table border=\"1\" class=\"dataframe\">\n",
              "  <thead>\n",
              "    <tr style=\"text-align: right;\">\n",
              "      <th></th>\n",
              "      <th>Loan_ID</th>\n",
              "      <th>Gender</th>\n",
              "      <th>Married</th>\n",
              "      <th>Dependents</th>\n",
              "      <th>Education</th>\n",
              "      <th>Self_Employed</th>\n",
              "      <th>ApplicantIncome</th>\n",
              "      <th>CoapplicantIncome</th>\n",
              "      <th>LoanAmount</th>\n",
              "      <th>Loan_Amount_Term</th>\n",
              "      <th>Credit_History</th>\n",
              "      <th>Property_Area</th>\n",
              "      <th>Loan_Status</th>\n",
              "    </tr>\n",
              "  </thead>\n",
              "  <tbody>\n",
              "    <tr>\n",
              "      <th>0</th>\n",
              "      <td>LP001002</td>\n",
              "      <td>0.0</td>\n",
              "      <td>0.0</td>\n",
              "      <td>0.000000</td>\n",
              "      <td>1.0</td>\n",
              "      <td>0.0</td>\n",
              "      <td>0.070489</td>\n",
              "      <td>0.000000</td>\n",
              "      <td>0.198860</td>\n",
              "      <td>0.74359</td>\n",
              "      <td>1.0</td>\n",
              "      <td>1.0</td>\n",
              "      <td>1.0</td>\n",
              "    </tr>\n",
              "    <tr>\n",
              "      <th>1</th>\n",
              "      <td>LP001003</td>\n",
              "      <td>0.0</td>\n",
              "      <td>1.0</td>\n",
              "      <td>0.333333</td>\n",
              "      <td>1.0</td>\n",
              "      <td>0.0</td>\n",
              "      <td>0.054830</td>\n",
              "      <td>0.036192</td>\n",
              "      <td>0.172214</td>\n",
              "      <td>0.74359</td>\n",
              "      <td>1.0</td>\n",
              "      <td>0.0</td>\n",
              "      <td>0.0</td>\n",
              "    </tr>\n",
              "    <tr>\n",
              "      <th>2</th>\n",
              "      <td>LP001005</td>\n",
              "      <td>0.0</td>\n",
              "      <td>1.0</td>\n",
              "      <td>0.000000</td>\n",
              "      <td>1.0</td>\n",
              "      <td>1.0</td>\n",
              "      <td>0.035250</td>\n",
              "      <td>0.000000</td>\n",
              "      <td>0.082489</td>\n",
              "      <td>0.74359</td>\n",
              "      <td>1.0</td>\n",
              "      <td>1.0</td>\n",
              "      <td>1.0</td>\n",
              "    </tr>\n",
              "    <tr>\n",
              "      <th>3</th>\n",
              "      <td>LP001006</td>\n",
              "      <td>0.0</td>\n",
              "      <td>1.0</td>\n",
              "      <td>0.000000</td>\n",
              "      <td>0.0</td>\n",
              "      <td>0.0</td>\n",
              "      <td>0.030093</td>\n",
              "      <td>0.056592</td>\n",
              "      <td>0.160637</td>\n",
              "      <td>0.74359</td>\n",
              "      <td>1.0</td>\n",
              "      <td>1.0</td>\n",
              "      <td>1.0</td>\n",
              "    </tr>\n",
              "    <tr>\n",
              "      <th>4</th>\n",
              "      <td>LP001008</td>\n",
              "      <td>0.0</td>\n",
              "      <td>0.0</td>\n",
              "      <td>0.000000</td>\n",
              "      <td>1.0</td>\n",
              "      <td>0.0</td>\n",
              "      <td>0.072356</td>\n",
              "      <td>0.000000</td>\n",
              "      <td>0.191027</td>\n",
              "      <td>0.74359</td>\n",
              "      <td>1.0</td>\n",
              "      <td>1.0</td>\n",
              "      <td>1.0</td>\n",
              "    </tr>\n",
              "  </tbody>\n",
              "</table>\n",
              "</div>"
            ],
            "text/plain": [
              "    Loan_ID  Gender  Married  ...  Credit_History  Property_Area  Loan_Status\n",
              "0  LP001002     0.0      0.0  ...             1.0            1.0          1.0\n",
              "1  LP001003     0.0      1.0  ...             1.0            0.0          0.0\n",
              "2  LP001005     0.0      1.0  ...             1.0            1.0          1.0\n",
              "3  LP001006     0.0      1.0  ...             1.0            1.0          1.0\n",
              "4  LP001008     0.0      0.0  ...             1.0            1.0          1.0\n",
              "\n",
              "[5 rows x 13 columns]"
            ]
          },
          "metadata": {
            "tags": []
          },
          "execution_count": 39
        }
      ]
    },
    {
      "cell_type": "code",
      "metadata": {
        "id": "XHVOPHenw6rf",
        "colab_type": "code",
        "colab": {
          "base_uri": "https://localhost:8080/",
          "height": 252
        },
        "outputId": "7edb84ba-00fb-4b9b-ca80-a857271eabbc"
      },
      "source": [
        "data.dtypes"
      ],
      "execution_count": 40,
      "outputs": [
        {
          "output_type": "execute_result",
          "data": {
            "text/plain": [
              "Loan_ID               object\n",
              "Gender               float64\n",
              "Married              float64\n",
              "Dependents           float64\n",
              "Education            float64\n",
              "Self_Employed        float64\n",
              "ApplicantIncome      float64\n",
              "CoapplicantIncome    float64\n",
              "LoanAmount           float64\n",
              "Loan_Amount_Term     float64\n",
              "Credit_History       float64\n",
              "Property_Area        float64\n",
              "Loan_Status          float64\n",
              "dtype: object"
            ]
          },
          "metadata": {
            "tags": []
          },
          "execution_count": 40
        }
      ]
    },
    {
      "cell_type": "code",
      "metadata": {
        "id": "L91Gex3YxGtq",
        "colab_type": "code",
        "colab": {
          "base_uri": "https://localhost:8080/",
          "height": 215
        },
        "outputId": "20373adf-0789-4cf1-ed43-d6e129320c4e"
      },
      "source": [
        "data.head()"
      ],
      "execution_count": 41,
      "outputs": [
        {
          "output_type": "execute_result",
          "data": {
            "text/html": [
              "<div>\n",
              "<style scoped>\n",
              "    .dataframe tbody tr th:only-of-type {\n",
              "        vertical-align: middle;\n",
              "    }\n",
              "\n",
              "    .dataframe tbody tr th {\n",
              "        vertical-align: top;\n",
              "    }\n",
              "\n",
              "    .dataframe thead th {\n",
              "        text-align: right;\n",
              "    }\n",
              "</style>\n",
              "<table border=\"1\" class=\"dataframe\">\n",
              "  <thead>\n",
              "    <tr style=\"text-align: right;\">\n",
              "      <th></th>\n",
              "      <th>Loan_ID</th>\n",
              "      <th>Gender</th>\n",
              "      <th>Married</th>\n",
              "      <th>Dependents</th>\n",
              "      <th>Education</th>\n",
              "      <th>Self_Employed</th>\n",
              "      <th>ApplicantIncome</th>\n",
              "      <th>CoapplicantIncome</th>\n",
              "      <th>LoanAmount</th>\n",
              "      <th>Loan_Amount_Term</th>\n",
              "      <th>Credit_History</th>\n",
              "      <th>Property_Area</th>\n",
              "      <th>Loan_Status</th>\n",
              "    </tr>\n",
              "  </thead>\n",
              "  <tbody>\n",
              "    <tr>\n",
              "      <th>0</th>\n",
              "      <td>LP001002</td>\n",
              "      <td>0.0</td>\n",
              "      <td>0.0</td>\n",
              "      <td>0.000000</td>\n",
              "      <td>1.0</td>\n",
              "      <td>0.0</td>\n",
              "      <td>0.070489</td>\n",
              "      <td>0.000000</td>\n",
              "      <td>0.198860</td>\n",
              "      <td>0.74359</td>\n",
              "      <td>1.0</td>\n",
              "      <td>1.0</td>\n",
              "      <td>1.0</td>\n",
              "    </tr>\n",
              "    <tr>\n",
              "      <th>1</th>\n",
              "      <td>LP001003</td>\n",
              "      <td>0.0</td>\n",
              "      <td>1.0</td>\n",
              "      <td>0.333333</td>\n",
              "      <td>1.0</td>\n",
              "      <td>0.0</td>\n",
              "      <td>0.054830</td>\n",
              "      <td>0.036192</td>\n",
              "      <td>0.172214</td>\n",
              "      <td>0.74359</td>\n",
              "      <td>1.0</td>\n",
              "      <td>0.0</td>\n",
              "      <td>0.0</td>\n",
              "    </tr>\n",
              "    <tr>\n",
              "      <th>2</th>\n",
              "      <td>LP001005</td>\n",
              "      <td>0.0</td>\n",
              "      <td>1.0</td>\n",
              "      <td>0.000000</td>\n",
              "      <td>1.0</td>\n",
              "      <td>1.0</td>\n",
              "      <td>0.035250</td>\n",
              "      <td>0.000000</td>\n",
              "      <td>0.082489</td>\n",
              "      <td>0.74359</td>\n",
              "      <td>1.0</td>\n",
              "      <td>1.0</td>\n",
              "      <td>1.0</td>\n",
              "    </tr>\n",
              "    <tr>\n",
              "      <th>3</th>\n",
              "      <td>LP001006</td>\n",
              "      <td>0.0</td>\n",
              "      <td>1.0</td>\n",
              "      <td>0.000000</td>\n",
              "      <td>0.0</td>\n",
              "      <td>0.0</td>\n",
              "      <td>0.030093</td>\n",
              "      <td>0.056592</td>\n",
              "      <td>0.160637</td>\n",
              "      <td>0.74359</td>\n",
              "      <td>1.0</td>\n",
              "      <td>1.0</td>\n",
              "      <td>1.0</td>\n",
              "    </tr>\n",
              "    <tr>\n",
              "      <th>4</th>\n",
              "      <td>LP001008</td>\n",
              "      <td>0.0</td>\n",
              "      <td>0.0</td>\n",
              "      <td>0.000000</td>\n",
              "      <td>1.0</td>\n",
              "      <td>0.0</td>\n",
              "      <td>0.072356</td>\n",
              "      <td>0.000000</td>\n",
              "      <td>0.191027</td>\n",
              "      <td>0.74359</td>\n",
              "      <td>1.0</td>\n",
              "      <td>1.0</td>\n",
              "      <td>1.0</td>\n",
              "    </tr>\n",
              "  </tbody>\n",
              "</table>\n",
              "</div>"
            ],
            "text/plain": [
              "    Loan_ID  Gender  Married  ...  Credit_History  Property_Area  Loan_Status\n",
              "0  LP001002     0.0      0.0  ...             1.0            1.0          1.0\n",
              "1  LP001003     0.0      1.0  ...             1.0            0.0          0.0\n",
              "2  LP001005     0.0      1.0  ...             1.0            1.0          1.0\n",
              "3  LP001006     0.0      1.0  ...             1.0            1.0          1.0\n",
              "4  LP001008     0.0      0.0  ...             1.0            1.0          1.0\n",
              "\n",
              "[5 rows x 13 columns]"
            ]
          },
          "metadata": {
            "tags": []
          },
          "execution_count": 41
        }
      ]
    },
    {
      "cell_type": "code",
      "metadata": {
        "id": "zNB9ItZaydcF",
        "colab_type": "code",
        "colab": {}
      },
      "source": [
        "data= data.drop(\"Loan_ID\",axis= 1)"
      ],
      "execution_count": 45,
      "outputs": []
    },
    {
      "cell_type": "code",
      "metadata": {
        "id": "Vf2ekwkq7AIL",
        "colab_type": "code",
        "colab": {
          "base_uri": "https://localhost:8080/",
          "height": 215
        },
        "outputId": "5b816ca4-8249-4a36-cdff-ed82b3e0fee4"
      },
      "source": [
        "data.head()"
      ],
      "execution_count": 46,
      "outputs": [
        {
          "output_type": "execute_result",
          "data": {
            "text/html": [
              "<div>\n",
              "<style scoped>\n",
              "    .dataframe tbody tr th:only-of-type {\n",
              "        vertical-align: middle;\n",
              "    }\n",
              "\n",
              "    .dataframe tbody tr th {\n",
              "        vertical-align: top;\n",
              "    }\n",
              "\n",
              "    .dataframe thead th {\n",
              "        text-align: right;\n",
              "    }\n",
              "</style>\n",
              "<table border=\"1\" class=\"dataframe\">\n",
              "  <thead>\n",
              "    <tr style=\"text-align: right;\">\n",
              "      <th></th>\n",
              "      <th>Gender</th>\n",
              "      <th>Married</th>\n",
              "      <th>Dependents</th>\n",
              "      <th>Education</th>\n",
              "      <th>Self_Employed</th>\n",
              "      <th>ApplicantIncome</th>\n",
              "      <th>CoapplicantIncome</th>\n",
              "      <th>LoanAmount</th>\n",
              "      <th>Loan_Amount_Term</th>\n",
              "      <th>Credit_History</th>\n",
              "      <th>Property_Area</th>\n",
              "      <th>Loan_Status</th>\n",
              "    </tr>\n",
              "  </thead>\n",
              "  <tbody>\n",
              "    <tr>\n",
              "      <th>0</th>\n",
              "      <td>0.0</td>\n",
              "      <td>0.0</td>\n",
              "      <td>0.000000</td>\n",
              "      <td>1.0</td>\n",
              "      <td>0.0</td>\n",
              "      <td>0.070489</td>\n",
              "      <td>0.000000</td>\n",
              "      <td>0.198860</td>\n",
              "      <td>0.74359</td>\n",
              "      <td>1.0</td>\n",
              "      <td>1.0</td>\n",
              "      <td>1.0</td>\n",
              "    </tr>\n",
              "    <tr>\n",
              "      <th>1</th>\n",
              "      <td>0.0</td>\n",
              "      <td>1.0</td>\n",
              "      <td>0.333333</td>\n",
              "      <td>1.0</td>\n",
              "      <td>0.0</td>\n",
              "      <td>0.054830</td>\n",
              "      <td>0.036192</td>\n",
              "      <td>0.172214</td>\n",
              "      <td>0.74359</td>\n",
              "      <td>1.0</td>\n",
              "      <td>0.0</td>\n",
              "      <td>0.0</td>\n",
              "    </tr>\n",
              "    <tr>\n",
              "      <th>2</th>\n",
              "      <td>0.0</td>\n",
              "      <td>1.0</td>\n",
              "      <td>0.000000</td>\n",
              "      <td>1.0</td>\n",
              "      <td>1.0</td>\n",
              "      <td>0.035250</td>\n",
              "      <td>0.000000</td>\n",
              "      <td>0.082489</td>\n",
              "      <td>0.74359</td>\n",
              "      <td>1.0</td>\n",
              "      <td>1.0</td>\n",
              "      <td>1.0</td>\n",
              "    </tr>\n",
              "    <tr>\n",
              "      <th>3</th>\n",
              "      <td>0.0</td>\n",
              "      <td>1.0</td>\n",
              "      <td>0.000000</td>\n",
              "      <td>0.0</td>\n",
              "      <td>0.0</td>\n",
              "      <td>0.030093</td>\n",
              "      <td>0.056592</td>\n",
              "      <td>0.160637</td>\n",
              "      <td>0.74359</td>\n",
              "      <td>1.0</td>\n",
              "      <td>1.0</td>\n",
              "      <td>1.0</td>\n",
              "    </tr>\n",
              "    <tr>\n",
              "      <th>4</th>\n",
              "      <td>0.0</td>\n",
              "      <td>0.0</td>\n",
              "      <td>0.000000</td>\n",
              "      <td>1.0</td>\n",
              "      <td>0.0</td>\n",
              "      <td>0.072356</td>\n",
              "      <td>0.000000</td>\n",
              "      <td>0.191027</td>\n",
              "      <td>0.74359</td>\n",
              "      <td>1.0</td>\n",
              "      <td>1.0</td>\n",
              "      <td>1.0</td>\n",
              "    </tr>\n",
              "  </tbody>\n",
              "</table>\n",
              "</div>"
            ],
            "text/plain": [
              "   Gender  Married  Dependents  ...  Credit_History  Property_Area  Loan_Status\n",
              "0     0.0      0.0    0.000000  ...             1.0            1.0          1.0\n",
              "1     0.0      1.0    0.333333  ...             1.0            0.0          0.0\n",
              "2     0.0      1.0    0.000000  ...             1.0            1.0          1.0\n",
              "3     0.0      1.0    0.000000  ...             1.0            1.0          1.0\n",
              "4     0.0      0.0    0.000000  ...             1.0            1.0          1.0\n",
              "\n",
              "[5 rows x 12 columns]"
            ]
          },
          "metadata": {
            "tags": []
          },
          "execution_count": 46
        }
      ]
    },
    {
      "cell_type": "code",
      "metadata": {
        "id": "HW0RWmZOxwX2",
        "colab_type": "code",
        "colab": {}
      },
      "source": [
        "X = data.drop(\"Loan_Status\",axis= 1)\n",
        "y = data['Loan_Status']"
      ],
      "execution_count": 47,
      "outputs": []
    },
    {
      "cell_type": "code",
      "metadata": {
        "id": "9-kksY5WyHf1",
        "colab_type": "code",
        "colab": {
          "base_uri": "https://localhost:8080/",
          "height": 34
        },
        "outputId": "aa43ff5b-9f13-4c02-9435-b16d69b91092"
      },
      "source": [
        "X.shape ,y.shape\n"
      ],
      "execution_count": 48,
      "outputs": [
        {
          "output_type": "execute_result",
          "data": {
            "text/plain": [
              "((614, 11), (614,))"
            ]
          },
          "metadata": {
            "tags": []
          },
          "execution_count": 48
        }
      ]
    },
    {
      "cell_type": "code",
      "metadata": {
        "id": "XcFMt1zhyVHL",
        "colab_type": "code",
        "colab": {}
      },
      "source": [
        "from sklearn.model_selection import train_test_split\n",
        "X_train, X_test, y_train, y_test = train_test_split(X, y, stratify = data['Loan_Status'],test_size = 0.2, random_state = 10)"
      ],
      "execution_count": 49,
      "outputs": []
    },
    {
      "cell_type": "code",
      "metadata": {
        "id": "K5LLLSoqz1gE",
        "colab_type": "code",
        "colab": {
          "base_uri": "https://localhost:8080/",
          "height": 34
        },
        "outputId": "e822cbba-364d-4e15-c0cf-36c8798cba2e"
      },
      "source": [
        "X_train.shape,X_test.shape ,y_train.shape ,y_test.shape"
      ],
      "execution_count": 50,
      "outputs": [
        {
          "output_type": "execute_result",
          "data": {
            "text/plain": [
              "((491, 11), (123, 11), (491,), (123,))"
            ]
          },
          "metadata": {
            "tags": []
          },
          "execution_count": 50
        }
      ]
    },
    {
      "cell_type": "markdown",
      "metadata": {
        "id": "VxO18Gww0-SP",
        "colab_type": "text"
      },
      "source": [
        "ARCHITECTURE OF NEURAL NETWORK"
      ]
    },
    {
      "cell_type": "code",
      "metadata": {
        "id": "AkTs4waq0OKN",
        "colab_type": "code",
        "colab": {}
      },
      "source": [
        "import keras as ks\n",
        "from keras import Sequential\n",
        "from keras.layers import InputLayer ,Dense\n"
      ],
      "execution_count": 51,
      "outputs": []
    },
    {
      "cell_type": "code",
      "metadata": {
        "id": "6LfD1jGI1Muv",
        "colab_type": "code",
        "colab": {
          "base_uri": "https://localhost:8080/",
          "height": 34
        },
        "outputId": "ee705638-263b-40ae-8171-348b0cbe467d"
      },
      "source": [
        "X_train.shape"
      ],
      "execution_count": 52,
      "outputs": [
        {
          "output_type": "execute_result",
          "data": {
            "text/plain": [
              "(491, 11)"
            ]
          },
          "metadata": {
            "tags": []
          },
          "execution_count": 52
        }
      ]
    },
    {
      "cell_type": "code",
      "metadata": {
        "id": "MW53dXA51s3v",
        "colab_type": "code",
        "colab": {
          "base_uri": "https://localhost:8080/",
          "height": 34
        },
        "outputId": "19d26960-4de3-46c0-92a1-7e492d64b8b1"
      },
      "source": [
        "X_train.shape[1]"
      ],
      "execution_count": 53,
      "outputs": [
        {
          "output_type": "execute_result",
          "data": {
            "text/plain": [
              "11"
            ]
          },
          "metadata": {
            "tags": []
          },
          "execution_count": 53
        }
      ]
    },
    {
      "cell_type": "code",
      "metadata": {
        "id": "lsq9rXG21wiq",
        "colab_type": "code",
        "colab": {}
      },
      "source": [
        "input_neurons = X_train.shape[1]"
      ],
      "execution_count": 54,
      "outputs": []
    },
    {
      "cell_type": "code",
      "metadata": {
        "id": "_jVioqNF13aa",
        "colab_type": "code",
        "colab": {}
      },
      "source": [
        "no_of_hidden_layers = 2\n",
        "neuron_hidden_layer1 = 5\n",
        "neuron_hidden_layer2  = 10\n",
        "output_neurons = 1"
      ],
      "execution_count": 55,
      "outputs": []
    },
    {
      "cell_type": "code",
      "metadata": {
        "id": "HcYmbBDV3t6h",
        "colab_type": "code",
        "colab": {}
      },
      "source": [
        "model = Sequential()\n",
        "model.add(InputLayer(input_shape= (input_neurons,)))\n",
        "model.add(Dense(units= neuron_hidden_layer1,activation= 'relu'))\n",
        "model.add(Dense(units= neuron_hidden_layer2,activation= 'relu'))\n",
        "model.add(Dense(units= output_neurons ,activation= 'sigmoid'))"
      ],
      "execution_count": 56,
      "outputs": []
    },
    {
      "cell_type": "code",
      "metadata": {
        "id": "oU-PPIsV32s1",
        "colab_type": "code",
        "colab": {
          "base_uri": "https://localhost:8080/",
          "height": 252
        },
        "outputId": "e9d3fcc7-afa6-4d54-83b6-2b759475820f"
      },
      "source": [
        "model.summary()"
      ],
      "execution_count": 57,
      "outputs": [
        {
          "output_type": "stream",
          "text": [
            "Model: \"sequential_7\"\n",
            "_________________________________________________________________\n",
            "Layer (type)                 Output Shape              Param #   \n",
            "=================================================================\n",
            "dense_9 (Dense)              (None, 5)                 60        \n",
            "_________________________________________________________________\n",
            "dense_10 (Dense)             (None, 10)                60        \n",
            "_________________________________________________________________\n",
            "dense_11 (Dense)             (None, 1)                 11        \n",
            "=================================================================\n",
            "Total params: 131\n",
            "Trainable params: 131\n",
            "Non-trainable params: 0\n",
            "_________________________________________________________________\n"
          ],
          "name": "stdout"
        }
      ]
    },
    {
      "cell_type": "code",
      "metadata": {
        "id": "PjoPiWSb4spK",
        "colab_type": "code",
        "colab": {
          "base_uri": "https://localhost:8080/",
          "height": 34
        },
        "outputId": "7bcf91db-aaf3-4752-d207-689256e5a97e"
      },
      "source": [
        "input_neurons * neuron_hidden_layer1"
      ],
      "execution_count": 58,
      "outputs": [
        {
          "output_type": "execute_result",
          "data": {
            "text/plain": [
              "55"
            ]
          },
          "metadata": {
            "tags": []
          },
          "execution_count": 58
        }
      ]
    },
    {
      "cell_type": "code",
      "metadata": {
        "id": "Ow_nsnet5CWK",
        "colab_type": "code",
        "colab": {
          "base_uri": "https://localhost:8080/",
          "height": 34
        },
        "outputId": "d05ac528-c82a-429e-de49-db61c7393479"
      },
      "source": [
        "input_neurons * neuron_hidden_layer2+10"
      ],
      "execution_count": 59,
      "outputs": [
        {
          "output_type": "execute_result",
          "data": {
            "text/plain": [
              "120"
            ]
          },
          "metadata": {
            "tags": []
          },
          "execution_count": 59
        }
      ]
    },
    {
      "cell_type": "code",
      "metadata": {
        "id": "DQYJCEqi5FlQ",
        "colab_type": "code",
        "colab": {
          "base_uri": "https://localhost:8080/",
          "height": 34
        },
        "outputId": "653a7e79-9688-4b97-977b-bd98f2cb64f6"
      },
      "source": [
        "neuron_hidden_layer1 * neuron_hidden_layer2 +5"
      ],
      "execution_count": 60,
      "outputs": [
        {
          "output_type": "execute_result",
          "data": {
            "text/plain": [
              "55"
            ]
          },
          "metadata": {
            "tags": []
          },
          "execution_count": 60
        }
      ]
    },
    {
      "cell_type": "code",
      "metadata": {
        "id": "P4yJ7xrR5Oo7",
        "colab_type": "code",
        "colab": {}
      },
      "source": [
        "model.compile(loss = 'binary_crossentropy',optimizer= 'adam',metrics=['accuracy'] )"
      ],
      "execution_count": 61,
      "outputs": []
    },
    {
      "cell_type": "markdown",
      "metadata": {
        "id": "M2GcIbk_6Z3c",
        "colab_type": "text"
      },
      "source": [
        "Trainning the model "
      ]
    },
    {
      "cell_type": "code",
      "metadata": {
        "id": "hIjAYUrF6Nx3",
        "colab_type": "code",
        "colab": {
          "base_uri": "https://localhost:8080/",
          "height": 1000
        },
        "outputId": "c3a8d527-b184-42fc-fadc-dcef84ddcd3c"
      },
      "source": [
        "model_history = model.fit(X_train,y_train ,validation_data= (X_test,y_test),epochs = 50)"
      ],
      "execution_count": 62,
      "outputs": [
        {
          "output_type": "stream",
          "text": [
            "Train on 491 samples, validate on 123 samples\n",
            "Epoch 1/50\n",
            "491/491 [==============================] - 2s 4ms/step - loss: 0.6379 - accuracy: 0.6864 - val_loss: 0.6348 - val_accuracy: 0.6911\n",
            "Epoch 2/50\n",
            "491/491 [==============================] - 0s 166us/step - loss: 0.6201 - accuracy: 0.6864 - val_loss: 0.6206 - val_accuracy: 0.6911\n",
            "Epoch 3/50\n",
            "491/491 [==============================] - 0s 141us/step - loss: 0.6067 - accuracy: 0.6864 - val_loss: 0.6105 - val_accuracy: 0.6911\n",
            "Epoch 4/50\n",
            "491/491 [==============================] - 0s 154us/step - loss: 0.5977 - accuracy: 0.6864 - val_loss: 0.6030 - val_accuracy: 0.6911\n",
            "Epoch 5/50\n",
            "491/491 [==============================] - 0s 153us/step - loss: 0.5904 - accuracy: 0.6864 - val_loss: 0.5965 - val_accuracy: 0.6911\n",
            "Epoch 6/50\n",
            "491/491 [==============================] - 0s 147us/step - loss: 0.5832 - accuracy: 0.6864 - val_loss: 0.5900 - val_accuracy: 0.6911\n",
            "Epoch 7/50\n",
            "491/491 [==============================] - 0s 150us/step - loss: 0.5758 - accuracy: 0.6864 - val_loss: 0.5839 - val_accuracy: 0.6911\n",
            "Epoch 8/50\n",
            "491/491 [==============================] - 0s 143us/step - loss: 0.5693 - accuracy: 0.6864 - val_loss: 0.5777 - val_accuracy: 0.6911\n",
            "Epoch 9/50\n",
            "491/491 [==============================] - 0s 144us/step - loss: 0.5618 - accuracy: 0.6864 - val_loss: 0.5720 - val_accuracy: 0.6911\n",
            "Epoch 10/50\n",
            "491/491 [==============================] - 0s 144us/step - loss: 0.5554 - accuracy: 0.7088 - val_loss: 0.5663 - val_accuracy: 0.7073\n",
            "Epoch 11/50\n",
            "491/491 [==============================] - 0s 147us/step - loss: 0.5495 - accuracy: 0.7169 - val_loss: 0.5619 - val_accuracy: 0.7073\n",
            "Epoch 12/50\n",
            "491/491 [==============================] - 0s 135us/step - loss: 0.5446 - accuracy: 0.7230 - val_loss: 0.5573 - val_accuracy: 0.7236\n",
            "Epoch 13/50\n",
            "491/491 [==============================] - 0s 144us/step - loss: 0.5387 - accuracy: 0.7434 - val_loss: 0.5532 - val_accuracy: 0.7317\n",
            "Epoch 14/50\n",
            "491/491 [==============================] - 0s 133us/step - loss: 0.5338 - accuracy: 0.7658 - val_loss: 0.5492 - val_accuracy: 0.7398\n",
            "Epoch 15/50\n",
            "491/491 [==============================] - 0s 177us/step - loss: 0.5290 - accuracy: 0.7841 - val_loss: 0.5449 - val_accuracy: 0.7480\n",
            "Epoch 16/50\n",
            "491/491 [==============================] - 0s 142us/step - loss: 0.5248 - accuracy: 0.7943 - val_loss: 0.5412 - val_accuracy: 0.7561\n",
            "Epoch 17/50\n",
            "491/491 [==============================] - 0s 142us/step - loss: 0.5196 - accuracy: 0.7963 - val_loss: 0.5382 - val_accuracy: 0.7886\n",
            "Epoch 18/50\n",
            "491/491 [==============================] - 0s 128us/step - loss: 0.5158 - accuracy: 0.7943 - val_loss: 0.5353 - val_accuracy: 0.7886\n",
            "Epoch 19/50\n",
            "491/491 [==============================] - 0s 130us/step - loss: 0.5130 - accuracy: 0.7943 - val_loss: 0.5320 - val_accuracy: 0.7886\n",
            "Epoch 20/50\n",
            "491/491 [==============================] - 0s 146us/step - loss: 0.5074 - accuracy: 0.8024 - val_loss: 0.5290 - val_accuracy: 0.7967\n",
            "Epoch 21/50\n",
            "491/491 [==============================] - 0s 145us/step - loss: 0.5030 - accuracy: 0.8024 - val_loss: 0.5258 - val_accuracy: 0.8049\n",
            "Epoch 22/50\n",
            "491/491 [==============================] - 0s 144us/step - loss: 0.4991 - accuracy: 0.8024 - val_loss: 0.5234 - val_accuracy: 0.8049\n",
            "Epoch 23/50\n",
            "491/491 [==============================] - 0s 141us/step - loss: 0.4956 - accuracy: 0.8045 - val_loss: 0.5208 - val_accuracy: 0.7967\n",
            "Epoch 24/50\n",
            "491/491 [==============================] - 0s 132us/step - loss: 0.4926 - accuracy: 0.8065 - val_loss: 0.5187 - val_accuracy: 0.8049\n",
            "Epoch 25/50\n",
            "491/491 [==============================] - 0s 130us/step - loss: 0.4900 - accuracy: 0.8004 - val_loss: 0.5164 - val_accuracy: 0.8049\n",
            "Epoch 26/50\n",
            "491/491 [==============================] - 0s 149us/step - loss: 0.4878 - accuracy: 0.8024 - val_loss: 0.5142 - val_accuracy: 0.8130\n",
            "Epoch 27/50\n",
            "491/491 [==============================] - 0s 133us/step - loss: 0.4859 - accuracy: 0.8024 - val_loss: 0.5132 - val_accuracy: 0.7967\n",
            "Epoch 28/50\n",
            "491/491 [==============================] - 0s 143us/step - loss: 0.4837 - accuracy: 0.8024 - val_loss: 0.5124 - val_accuracy: 0.7967\n",
            "Epoch 29/50\n",
            "491/491 [==============================] - 0s 177us/step - loss: 0.4828 - accuracy: 0.8045 - val_loss: 0.5112 - val_accuracy: 0.7886\n",
            "Epoch 30/50\n",
            "491/491 [==============================] - 0s 152us/step - loss: 0.4801 - accuracy: 0.8004 - val_loss: 0.5083 - val_accuracy: 0.8130\n",
            "Epoch 31/50\n",
            "491/491 [==============================] - 0s 144us/step - loss: 0.4789 - accuracy: 0.8024 - val_loss: 0.5068 - val_accuracy: 0.8130\n",
            "Epoch 32/50\n",
            "491/491 [==============================] - 0s 149us/step - loss: 0.4796 - accuracy: 0.8045 - val_loss: 0.5064 - val_accuracy: 0.7886\n",
            "Epoch 33/50\n",
            "491/491 [==============================] - 0s 140us/step - loss: 0.4770 - accuracy: 0.8065 - val_loss: 0.5043 - val_accuracy: 0.8130\n",
            "Epoch 34/50\n",
            "491/491 [==============================] - 0s 157us/step - loss: 0.4763 - accuracy: 0.8065 - val_loss: 0.5040 - val_accuracy: 0.7967\n",
            "Epoch 35/50\n",
            "491/491 [==============================] - 0s 146us/step - loss: 0.4747 - accuracy: 0.8045 - val_loss: 0.5019 - val_accuracy: 0.8049\n",
            "Epoch 36/50\n",
            "491/491 [==============================] - 0s 132us/step - loss: 0.4738 - accuracy: 0.8065 - val_loss: 0.5013 - val_accuracy: 0.8049\n",
            "Epoch 37/50\n",
            "491/491 [==============================] - 0s 142us/step - loss: 0.4725 - accuracy: 0.8065 - val_loss: 0.4999 - val_accuracy: 0.8130\n",
            "Epoch 38/50\n",
            "491/491 [==============================] - 0s 131us/step - loss: 0.4735 - accuracy: 0.8065 - val_loss: 0.5002 - val_accuracy: 0.8049\n",
            "Epoch 39/50\n",
            "491/491 [==============================] - 0s 153us/step - loss: 0.4716 - accuracy: 0.8065 - val_loss: 0.4983 - val_accuracy: 0.8130\n",
            "Epoch 40/50\n",
            "491/491 [==============================] - 0s 151us/step - loss: 0.4707 - accuracy: 0.8065 - val_loss: 0.4984 - val_accuracy: 0.8049\n",
            "Epoch 41/50\n",
            "491/491 [==============================] - 0s 141us/step - loss: 0.4699 - accuracy: 0.8065 - val_loss: 0.4974 - val_accuracy: 0.8049\n",
            "Epoch 42/50\n",
            "491/491 [==============================] - 0s 157us/step - loss: 0.4697 - accuracy: 0.8065 - val_loss: 0.4968 - val_accuracy: 0.8049\n",
            "Epoch 43/50\n",
            "491/491 [==============================] - 0s 146us/step - loss: 0.4688 - accuracy: 0.8065 - val_loss: 0.4966 - val_accuracy: 0.8049\n",
            "Epoch 44/50\n",
            "491/491 [==============================] - 0s 141us/step - loss: 0.4685 - accuracy: 0.8086 - val_loss: 0.4964 - val_accuracy: 0.8049\n",
            "Epoch 45/50\n",
            "491/491 [==============================] - 0s 133us/step - loss: 0.4674 - accuracy: 0.8086 - val_loss: 0.4960 - val_accuracy: 0.8049\n",
            "Epoch 46/50\n",
            "491/491 [==============================] - 0s 130us/step - loss: 0.4669 - accuracy: 0.8086 - val_loss: 0.4954 - val_accuracy: 0.8049\n",
            "Epoch 47/50\n",
            "491/491 [==============================] - 0s 153us/step - loss: 0.4668 - accuracy: 0.8086 - val_loss: 0.4945 - val_accuracy: 0.8130\n",
            "Epoch 48/50\n",
            "491/491 [==============================] - 0s 136us/step - loss: 0.4669 - accuracy: 0.8086 - val_loss: 0.4952 - val_accuracy: 0.8049\n",
            "Epoch 49/50\n",
            "491/491 [==============================] - 0s 144us/step - loss: 0.4659 - accuracy: 0.8086 - val_loss: 0.4948 - val_accuracy: 0.8049\n",
            "Epoch 50/50\n",
            "491/491 [==============================] - 0s 144us/step - loss: 0.4652 - accuracy: 0.8086 - val_loss: 0.4940 - val_accuracy: 0.8049\n"
          ],
          "name": "stdout"
        }
      ]
    },
    {
      "cell_type": "markdown",
      "metadata": {
        "id": "g47Bh34f7QYo",
        "colab_type": "text"
      },
      "source": [
        "Evaluating model in validation set"
      ]
    },
    {
      "cell_type": "code",
      "metadata": {
        "id": "nhWgt2Rh6tFj",
        "colab_type": "code",
        "colab": {}
      },
      "source": [
        "prediction  = model.predict_classes(X_test)"
      ],
      "execution_count": 63,
      "outputs": []
    },
    {
      "cell_type": "code",
      "metadata": {
        "id": "hDHJH5Kv7bmu",
        "colab_type": "code",
        "colab": {
          "base_uri": "https://localhost:8080/",
          "height": 34
        },
        "outputId": "6ebb3148-3dbd-4bed-af68-5f186efea40e"
      },
      "source": [
        "from sklearn.metrics import accuracy_score\n",
        "accuracy_score(y_test,prediction)"
      ],
      "execution_count": 68,
      "outputs": [
        {
          "output_type": "execute_result",
          "data": {
            "text/plain": [
              "0.8048780487804879"
            ]
          },
          "metadata": {
            "tags": []
          },
          "execution_count": 68
        }
      ]
    },
    {
      "cell_type": "markdown",
      "metadata": {
        "id": "PiRm0Nah8IP4",
        "colab_type": "text"
      },
      "source": [
        "Visualizing  the model performance"
      ]
    },
    {
      "cell_type": "code",
      "metadata": {
        "id": "V5VPDyZo7h8o",
        "colab_type": "code",
        "colab": {
          "base_uri": "https://localhost:8080/",
          "height": 550
        },
        "outputId": "091400fd-1186-4321-fd11-3295dfb9e49b"
      },
      "source": [
        "plt.plot(model_history.history['loss'])\n",
        "plt.plot(model_history.history['val_loss'])\n",
        "plt.title('model_loss')\n",
        "plt.ylabel('loss')\n",
        "plt.xlabel('epoch')\n",
        "plt.legend(['train' ,'validation'], loc = 'upper_left')\n",
        "plt.show()\n"
      ],
      "execution_count": 76,
      "outputs": [
        {
          "output_type": "stream",
          "text": [
            "/usr/local/lib/python3.6/dist-packages/ipykernel_launcher.py:6: MatplotlibDeprecationWarning: Unrecognized location 'upper_left'. Falling back on 'best'; valid locations are\n",
            "\tbest\n",
            "\tupper right\n",
            "\tupper left\n",
            "\tlower left\n",
            "\tlower right\n",
            "\tright\n",
            "\tcenter left\n",
            "\tcenter right\n",
            "\tlower center\n",
            "\tupper center\n",
            "\tcenter\n",
            "This will raise an exception in 3.3.\n",
            "  \n"
          ],
          "name": "stderr"
        },
        {
          "output_type": "display_data",
          "data": {
            "image/png": "[encoded data removed]",
            "text/plain": [
              "<Figure size 432x288 with 1 Axes>"
            ]
          },
          "metadata": {
            "tags": [],
            "needs_background": "light"
          }
        }
      ]
    },
    {
      "cell_type": "code",
      "metadata": {
        "id": "6BksyPrS9Z9y",
        "colab_type": "code",
        "colab": {
          "base_uri": "https://localhost:8080/",
          "height": 550
        },
        "outputId": "37e3e103-d53e-4e4d-a25e-7ba7885cff5c"
      },
      "source": [
        "plt.plot(model_history.history['accuracy'])\n",
        "plt.plot(model_history.history['val_accuracy'])\n",
        "plt.title('model_accuracy')\n",
        "plt.ylabel('accuracy')\n",
        "plt.xlabel('epoch')\n",
        "plt.legend(['train' ,'validation'], loc = 'upper_left')\n",
        "plt.show()"
      ],
      "execution_count": 78,
      "outputs": [
        {
          "output_type": "stream",
          "text": [
            "/usr/local/lib/python3.6/dist-packages/ipykernel_launcher.py:6: MatplotlibDeprecationWarning: Unrecognized location 'upper_left'. Falling back on 'best'; valid locations are\n",
            "\tbest\n",
            "\tupper right\n",
            "\tupper left\n",
            "\tlower left\n",
            "\tlower right\n",
            "\tright\n",
            "\tcenter left\n",
            "\tcenter right\n",
            "\tlower center\n",
            "\tupper center\n",
            "\tcenter\n",
            "This will raise an exception in 3.3.\n",
            "  \n"
          ],
          "name": "stderr"
        },
        {
          "output_type": "display_data",
          "data": {
            "image/png": "[encoded data removed]",
            "text/plain": [
              "<Figure size 432x288 with 1 Axes>"
            ]
          },
          "metadata": {
            "tags": [],
            "needs_background": "light"
          }
        }
      ]
    },
    {
      "cell_type": "code",
      "metadata": {
        "id": "J8BarsF1-QwR",
        "colab_type": "code",
        "colab": {}
      },
      "source": [
        ""
      ],
      "execution_count": null,
      "outputs": []
    }
  ]
}