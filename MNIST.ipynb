{
  "nbformat": 4,
  "nbformat_minor": 0,
  "metadata": {
    "colab": {
      "name": "MNIST.ipynb",
      "provenance": []
    },
    "kernelspec": {
      "name": "python3",
      "display_name": "Python 3"
    },
    "accelerator": "GPU"
  },
  "cells": [
    {
      "cell_type": "markdown",
      "metadata": {
        "id": "P2eenFDVr8MV",
        "colab_type": "text"
      },
      "source": [
        "## we are using keras predefined dataset to just understand the concept"
      ]
    },
    {
      "cell_type": "code",
      "metadata": {
        "id": "M9TMOpbIsFxx",
        "colab_type": "code",
        "colab": {}
      },
      "source": [
        "from keras.datasets import mnist\n",
        "\n",
        "# loading the dataset\n",
        "(X_train, y_train), (X_test, y_test) = mnist.load_data()\n"
      ],
      "execution_count": 19,
      "outputs": []
    },
    {
      "cell_type": "code",
      "metadata": {
        "id": "psj8zavHsKQ_",
        "colab_type": "code",
        "colab": {
          "base_uri": "https://localhost:8080/",
          "height": 84
        },
        "outputId": "79ca5f5a-fefe-42f9-af7c-dbbc130913a2"
      },
      "source": [
        "# let's print the shape of the dataset\n",
        "print(\"X_train shape\", X_train.shape)\n",
        "print(\"y_train shape\", y_train.shape)\n",
        "print(\"X_test shape\", X_test.shape)\n",
        "print(\"y_test shape\", y_test.shape)"
      ],
      "execution_count": 20,
      "outputs": [
        {
          "output_type": "stream",
          "text": [
            "X_train shape (60000, 28, 28)\n",
            "y_train shape (60000,)\n",
            "X_test shape (10000, 28, 28)\n",
            "y_test shape (10000,)\n"
          ],
          "name": "stdout"
        }
      ]
    },
    {
      "cell_type": "markdown",
      "metadata": {
        "id": "FJszuggzssAz",
        "colab_type": "text"
      },
      "source": [
        "## keras imports for the dataset and building our neural network"
      ]
    },
    {
      "cell_type": "code",
      "metadata": {
        "id": "Ubdocz89si2W",
        "colab_type": "code",
        "colab": {}
      },
      "source": [
        "from keras.datasets import mnist\n",
        "from keras.models import Sequential\n",
        "from keras.layers import Dense, Dropout, Conv2D, MaxPool2D\n",
        "from keras.utils import np_utils"
      ],
      "execution_count": 21,
      "outputs": []
    },
    {
      "cell_type": "markdown",
      "metadata": {
        "id": "xoK-oKJfsxJ2",
        "colab_type": "text"
      },
      "source": [
        "# Flattening the images from the 28x28 pixels to 1D 787 pixels"
      ]
    },
    {
      "cell_type": "code",
      "metadata": {
        "id": "o7w-f7YHsuh6",
        "colab_type": "code",
        "colab": {}
      },
      "source": [
        "X_train = X_train.reshape(60000, 784)\n",
        "X_test = X_test.reshape(10000, 784)\n",
        "X_train = X_train.astype('float32')\n",
        "X_test = X_test.astype('float32')\n"
      ],
      "execution_count": 22,
      "outputs": []
    },
    {
      "cell_type": "markdown",
      "metadata": {
        "id": "rJYyDt6as6GN",
        "colab_type": "text"
      },
      "source": [
        "# normalizing the data to help with the training"
      ]
    },
    {
      "cell_type": "code",
      "metadata": {
        "id": "YMe_9-7ws3jP",
        "colab_type": "code",
        "colab": {}
      },
      "source": [
        "X_train /= 255\n",
        "X_test /= 255"
      ],
      "execution_count": 23,
      "outputs": []
    },
    {
      "cell_type": "markdown",
      "metadata": {
        "id": "6KzRQRI_s-aF",
        "colab_type": "text"
      },
      "source": [
        "## one-hot encoding using keras' numpy-related utilities"
      ]
    },
    {
      "cell_type": "code",
      "metadata": {
        "id": "hOlD9s71s8RX",
        "colab_type": "code",
        "colab": {
          "base_uri": "https://localhost:8080/",
          "height": 50
        },
        "outputId": "90e7a96e-d5fb-45da-d07a-b94b7df8a23e"
      },
      "source": [
        "n_classes = 10\n",
        "print(\"Shape before one-hot encoding: \", y_train.shape)\n",
        "Y_train = np_utils.to_categorical(y_train, n_classes)\n",
        "Y_test = np_utils.to_categorical(y_test, n_classes)\n",
        "print(\"Shape after one-hot encoding: \", Y_train.shape)"
      ],
      "execution_count": 24,
      "outputs": [
        {
          "output_type": "stream",
          "text": [
            "Shape before one-hot encoding:  (60000,)\n",
            "Shape after one-hot encoding:  (60000, 10)\n"
          ],
          "name": "stdout"
        }
      ]
    },
    {
      "cell_type": "markdown",
      "metadata": {
        "id": "75CYLp0wtD8q",
        "colab_type": "text"
      },
      "source": [
        "# building a linear stack of layers with the sequential model"
      ]
    },
    {
      "cell_type": "code",
      "metadata": {
        "id": "IaoTIUnKtBBX",
        "colab_type": "code",
        "colab": {}
      },
      "source": [
        "model = Sequential()\n",
        "# hidden layer\n",
        "model.add(Dense(100, input_shape=(784,), activation='relu'))\n",
        "# output layer\n",
        "model.add(Dense(10, activation='softmax'))"
      ],
      "execution_count": 25,
      "outputs": []
    },
    {
      "cell_type": "code",
      "metadata": {
        "id": "OyM6zZROtHyY",
        "colab_type": "code",
        "colab": {
          "base_uri": "https://localhost:8080/",
          "height": 571
        },
        "outputId": "f46b83b7-fbcf-4799-808e-2a54ee955e43"
      },
      "source": [
        "# looking at the model summary\n",
        "model.summary()\n",
        "# compiling the sequential model\n",
        "model.compile(loss='categorical_crossentropy', metrics=['accuracy'], optimizer='adam')\n",
        "# training the model for 10 epochs\n",
        "model.fit(X_train, Y_train, batch_size=128, epochs=10, validation_data=(X_test, Y_test))"
      ],
      "execution_count": 26,
      "outputs": [
        {
          "output_type": "stream",
          "text": [
            "Model: \"sequential_3\"\n",
            "_________________________________________________________________\n",
            "Layer (type)                 Output Shape              Param #   \n",
            "=================================================================\n",
            "dense_6 (Dense)              (None, 100)               78500     \n",
            "_________________________________________________________________\n",
            "dense_7 (Dense)              (None, 10)                1010      \n",
            "=================================================================\n",
            "Total params: 79,510\n",
            "Trainable params: 79,510\n",
            "Non-trainable params: 0\n",
            "_________________________________________________________________\n",
            "Epoch 1/10\n",
            "469/469 [==============================] - 2s 4ms/step - loss: 0.3709 - accuracy: 0.8992 - val_loss: 0.2017 - val_accuracy: 0.9428\n",
            "Epoch 2/10\n",
            "469/469 [==============================] - 2s 4ms/step - loss: 0.1735 - accuracy: 0.9507 - val_loss: 0.1442 - val_accuracy: 0.9584\n",
            "Epoch 3/10\n",
            "469/469 [==============================] - 2s 4ms/step - loss: 0.1261 - accuracy: 0.9634 - val_loss: 0.1175 - val_accuracy: 0.9648\n",
            "Epoch 4/10\n",
            "469/469 [==============================] - 2s 4ms/step - loss: 0.0992 - accuracy: 0.9719 - val_loss: 0.0997 - val_accuracy: 0.9703\n",
            "Epoch 5/10\n",
            "469/469 [==============================] - 2s 4ms/step - loss: 0.0818 - accuracy: 0.9768 - val_loss: 0.0894 - val_accuracy: 0.9739\n",
            "Epoch 6/10\n",
            "469/469 [==============================] - 2s 4ms/step - loss: 0.0690 - accuracy: 0.9804 - val_loss: 0.0859 - val_accuracy: 0.9746\n",
            "Epoch 7/10\n",
            "469/469 [==============================] - 2s 4ms/step - loss: 0.0592 - accuracy: 0.9832 - val_loss: 0.0876 - val_accuracy: 0.9727\n",
            "Epoch 8/10\n",
            "469/469 [==============================] - 2s 4ms/step - loss: 0.0516 - accuracy: 0.9846 - val_loss: 0.0820 - val_accuracy: 0.9758\n",
            "Epoch 9/10\n",
            "469/469 [==============================] - 2s 4ms/step - loss: 0.0446 - accuracy: 0.9873 - val_loss: 0.0781 - val_accuracy: 0.9760\n",
            "Epoch 10/10\n",
            "469/469 [==============================] - 2s 4ms/step - loss: 0.0384 - accuracy: 0.9894 - val_loss: 0.0773 - val_accuracy: 0.9769\n"
          ],
          "name": "stdout"
        },
        {
          "output_type": "execute_result",
          "data": {
            "text/plain": [
              "<tensorflow.python.keras.callbacks.History at 0x7fcd94f5f6a0>"
            ]
          },
          "metadata": {
            "tags": []
          },
          "execution_count": 26
        }
      ]
    },
    {
      "cell_type": "markdown",
      "metadata": {
        "id": "NlT1CFeQtXgx",
        "colab_type": "text"
      },
      "source": [
        "## Now we will use and CNN **model** "
      ]
    },
    {
      "cell_type": "code",
      "metadata": {
        "id": "3d9XFk1etMIY",
        "colab_type": "code",
        "colab": {}
      },
      "source": [
        "# keras imports for the dataset and building our neural network\n",
        "from keras.datasets import mnist\n",
        "from keras.models import Sequential\n",
        "from keras.layers import Dense, Dropout, Conv2D, MaxPool2D, Flatten\n",
        "from keras.utils import np_utils"
      ],
      "execution_count": 9,
      "outputs": []
    },
    {
      "cell_type": "code",
      "metadata": {
        "id": "NOxxpVaWtfCm",
        "colab_type": "code",
        "colab": {}
      },
      "source": [
        "# to calculate accuracy\n",
        "from sklearn.metrics import accuracy_score\n",
        "\n",
        "# loading the dataset\n",
        "(X_train, y_train), (X_test, y_test) = mnist.load_data()\n",
        "\n",
        "# building the input vector from the 28x28 pixels\n",
        "X_train = X_train.reshape(X_train.shape[0], 28, 28, 1)\n",
        "X_test = X_test.reshape(X_test.shape[0], 28, 28, 1)\n",
        "X_train = X_train.astype('float32')\n",
        "X_test = X_test.astype('float32')\n",
        "\n",
        "# normalizing the data to help with the training\n",
        "X_train /= 255\n",
        "X_test /= 255"
      ],
      "execution_count": 10,
      "outputs": []
    },
    {
      "cell_type": "code",
      "metadata": {
        "id": "8sXGjSlLtjSk",
        "colab_type": "code",
        "colab": {
          "base_uri": "https://localhost:8080/",
          "height": 50
        },
        "outputId": "a2c7f839-c53d-4c6f-aa47-d21f1a688627"
      },
      "source": [
        "# one-hot encoding using keras' numpy-related utilities\n",
        "n_classes = 10\n",
        "print(\"Shape before one-hot encoding: \", y_train.shape)\n",
        "Y_train = np_utils.to_categorical(y_train, n_classes)\n",
        "Y_test = np_utils.to_categorical(y_test, n_classes)\n",
        "print(\"Shape after one-hot encoding: \", Y_train.shape)"
      ],
      "execution_count": 11,
      "outputs": [
        {
          "output_type": "stream",
          "text": [
            "Shape before one-hot encoding:  (60000,)\n",
            "Shape after one-hot encoding:  (60000, 10)\n"
          ],
          "name": "stdout"
        }
      ]
    },
    {
      "cell_type": "code",
      "metadata": {
        "id": "5rIa8zO3tllG",
        "colab_type": "code",
        "colab": {}
      },
      "source": [
        "# building a linear stack of layers with the sequential model\n",
        "model = Sequential()\n",
        "# convolutional layer\n",
        "model.add(Conv2D(25, kernel_size=(3,3), strides=(1,1), padding='valid', activation='relu', input_shape=(28,28,1)))\n",
        "model.add(MaxPool2D(pool_size=(1,1)))\n",
        "# flatten output of conv\n",
        "model.add(Flatten())\n",
        "# hidden layer\n",
        "model.add(Dense(100, activation='relu'))\n",
        "# output layer\n",
        "model.add(Dense(10, activation='softmax'))\n"
      ],
      "execution_count": 12,
      "outputs": []
    },
    {
      "cell_type": "code",
      "metadata": {
        "id": "KehUEIOUtnpu",
        "colab_type": "code",
        "colab": {}
      },
      "source": [
        "# compiling the sequential model\n",
        "model.compile(loss='categorical_crossentropy', metrics=['accuracy'], optimizer='adam')"
      ],
      "execution_count": 13,
      "outputs": []
    },
    {
      "cell_type": "code",
      "metadata": {
        "id": "tYr9XMDXtpiI",
        "colab_type": "code",
        "colab": {
          "base_uri": "https://localhost:8080/",
          "height": 370
        },
        "outputId": "a0a267b6-2d2b-4c50-9d08-6589655c105e"
      },
      "source": [
        "# training the model for 10 epochs\n",
        "model.fit(X_train, Y_train, batch_size=128, epochs=20, validation_data=(X_test, Y_test))"
      ],
      "execution_count": 14,
      "outputs": [
        {
          "output_type": "stream",
          "text": [
            "Epoch 1/10\n",
            "469/469 [==============================] - 4s 9ms/step - loss: 0.1903 - accuracy: 0.9434 - val_loss: 0.0839 - val_accuracy: 0.9734\n",
            "Epoch 2/10\n",
            "469/469 [==============================] - 4s 8ms/step - loss: 0.0567 - accuracy: 0.9835 - val_loss: 0.0633 - val_accuracy: 0.9791\n",
            "Epoch 3/10\n",
            "469/469 [==============================] - 4s 8ms/step - loss: 0.0338 - accuracy: 0.9898 - val_loss: 0.0506 - val_accuracy: 0.9835\n",
            "Epoch 4/10\n",
            "469/469 [==============================] - 4s 8ms/step - loss: 0.0198 - accuracy: 0.9942 - val_loss: 0.0533 - val_accuracy: 0.9827\n",
            "Epoch 5/10\n",
            "469/469 [==============================] - 4s 8ms/step - loss: 0.0133 - accuracy: 0.9961 - val_loss: 0.0530 - val_accuracy: 0.9835\n",
            "Epoch 6/10\n",
            "469/469 [==============================] - 4s 8ms/step - loss: 0.0085 - accuracy: 0.9977 - val_loss: 0.0531 - val_accuracy: 0.9850\n",
            "Epoch 7/10\n",
            "469/469 [==============================] - 4s 8ms/step - loss: 0.0057 - accuracy: 0.9985 - val_loss: 0.0599 - val_accuracy: 0.9837\n",
            "Epoch 8/10\n",
            "469/469 [==============================] - 4s 8ms/step - loss: 0.0059 - accuracy: 0.9984 - val_loss: 0.0654 - val_accuracy: 0.9825\n",
            "Epoch 9/10\n",
            "469/469 [==============================] - 4s 8ms/step - loss: 0.0054 - accuracy: 0.9984 - val_loss: 0.0683 - val_accuracy: 0.9826\n",
            "Epoch 10/10\n",
            "469/469 [==============================] - 4s 8ms/step - loss: 0.0037 - accuracy: 0.9990 - val_loss: 0.0612 - val_accuracy: 0.9837\n"
          ],
          "name": "stdout"
        },
        {
          "output_type": "execute_result",
          "data": {
            "text/plain": [
              "<tensorflow.python.keras.callbacks.History at 0x7fcd972e2cc0>"
            ]
          },
          "metadata": {
            "tags": []
          },
          "execution_count": 14
        }
      ]
    },
    {
      "cell_type": "markdown",
      "metadata": {
        "id": "OH4h7F-ot5kH",
        "colab_type": "text"
      },
      "source": [
        "## after adding more than more convolution network"
      ]
    },
    {
      "cell_type": "code",
      "metadata": {
        "id": "T5A54B6suFS-",
        "colab_type": "code",
        "colab": {}
      },
      "source": [
        "# one-hot encoding using keras' numpy-related utilities\n",
        "n_classes = 20\n",
        "print(\"Shape before one-hot encoding: \", y_train.shape)\n",
        "Y_train = np_utils.to_categorical(y_train, n_classes)\n",
        "Y_test = np_utils.to_categorical(y_test, n_classes)\n",
        "print(\"Shape after one-hot encoding: \", Y_train.shape)"
      ],
      "execution_count": null,
      "outputs": []
    },
    {
      "cell_type": "code",
      "metadata": {
        "id": "MHW45CBAtrUp",
        "colab_type": "code",
        "colab": {}
      },
      "source": [
        "# building a linear stack of layers with the sequential model\n",
        "model = Sequential()\n",
        "# convolutional layer\n",
        "model.add(Conv2D(25, kernel_size=(3,3), strides=(1,1), padding='valid', activation='relu', input_shape=(28,28,1)))\n",
        "model.add(MaxPool2D(pool_size=(1,1)))\n",
        "\n",
        "#adding convolution network\n",
        "model.add(Conv2D(25, kernel_size=(3,3), strides=(1,1), padding='valid', activation='relu', input_shape=(28,28,1)))\n",
        "model.add(MaxPool2D(pool_size=(1,1)))\n",
        "\n",
        "# flatten output of conv\n",
        "model.add(Flatten())\n",
        "# hidden layer\n",
        "model.add(Dense(100, activation='relu'))\n",
        "# output layer\n",
        "model.add(Dense(10, activation='softmax'))"
      ],
      "execution_count": 15,
      "outputs": []
    },
    {
      "cell_type": "code",
      "metadata": {
        "id": "KCSg3g8OuL7n",
        "colab_type": "code",
        "colab": {}
      },
      "source": [
        "# compiling the sequential model\n",
        "model.compile(loss='categorical_crossentropy', metrics=['accuracy'], optimizer='adam')"
      ],
      "execution_count": 16,
      "outputs": []
    },
    {
      "cell_type": "code",
      "metadata": {
        "id": "5jrzGxFguOZM",
        "colab_type": "code",
        "colab": {
          "base_uri": "https://localhost:8080/",
          "height": 706
        },
        "outputId": "1731f99a-216c-4fcb-ffc4-43c77780963a"
      },
      "source": [
        "# training the model for 20 epochs\n",
        "model.fit(X_train, Y_train, batch_size=128, epochs= 20, validation_data=(X_test, Y_test))"
      ],
      "execution_count": 18,
      "outputs": [
        {
          "output_type": "stream",
          "text": [
            "Epoch 1/20\n",
            "469/469 [==============================] - 5s 12ms/step - loss: 0.0041 - accuracy: 0.9985 - val_loss: 0.0531 - val_accuracy: 0.9878\n",
            "Epoch 2/20\n",
            "469/469 [==============================] - 5s 11ms/step - loss: 0.0022 - accuracy: 0.9993 - val_loss: 0.0526 - val_accuracy: 0.9889\n",
            "Epoch 3/20\n",
            "469/469 [==============================] - 5s 11ms/step - loss: 0.0039 - accuracy: 0.9988 - val_loss: 0.0606 - val_accuracy: 0.9857\n",
            "Epoch 4/20\n",
            "469/469 [==============================] - 5s 11ms/step - loss: 0.0058 - accuracy: 0.9980 - val_loss: 0.0573 - val_accuracy: 0.9868\n",
            "Epoch 5/20\n",
            "469/469 [==============================] - 5s 11ms/step - loss: 0.0025 - accuracy: 0.9991 - val_loss: 0.0452 - val_accuracy: 0.9895\n",
            "Epoch 6/20\n",
            "469/469 [==============================] - 5s 11ms/step - loss: 0.0038 - accuracy: 0.9988 - val_loss: 0.0595 - val_accuracy: 0.9880\n",
            "Epoch 7/20\n",
            "469/469 [==============================] - 5s 11ms/step - loss: 0.0027 - accuracy: 0.9991 - val_loss: 0.0554 - val_accuracy: 0.9887\n",
            "Epoch 8/20\n",
            "469/469 [==============================] - 5s 11ms/step - loss: 0.0030 - accuracy: 0.9990 - val_loss: 0.0749 - val_accuracy: 0.9855\n",
            "Epoch 9/20\n",
            "469/469 [==============================] - 5s 11ms/step - loss: 0.0023 - accuracy: 0.9992 - val_loss: 0.0623 - val_accuracy: 0.9875\n",
            "Epoch 10/20\n",
            "469/469 [==============================] - 5s 11ms/step - loss: 0.0014 - accuracy: 0.9995 - val_loss: 0.0521 - val_accuracy: 0.9886\n",
            "Epoch 11/20\n",
            "469/469 [==============================] - 6s 12ms/step - loss: 0.0016 - accuracy: 0.9995 - val_loss: 0.0581 - val_accuracy: 0.9886\n",
            "Epoch 12/20\n",
            "469/469 [==============================] - 5s 12ms/step - loss: 0.0012 - accuracy: 0.9997 - val_loss: 0.0532 - val_accuracy: 0.9880\n",
            "Epoch 13/20\n",
            "469/469 [==============================] - 5s 11ms/step - loss: 6.6226e-04 - accuracy: 0.9998 - val_loss: 0.0848 - val_accuracy: 0.9845\n",
            "Epoch 14/20\n",
            "469/469 [==============================] - 5s 11ms/step - loss: 0.0042 - accuracy: 0.9986 - val_loss: 0.0580 - val_accuracy: 0.9881\n",
            "Epoch 15/20\n",
            "469/469 [==============================] - 5s 11ms/step - loss: 0.0011 - accuracy: 0.9997 - val_loss: 0.0656 - val_accuracy: 0.9886\n",
            "Epoch 16/20\n",
            "469/469 [==============================] - 5s 11ms/step - loss: 5.6552e-04 - accuracy: 0.9998 - val_loss: 0.0757 - val_accuracy: 0.9883\n",
            "Epoch 17/20\n",
            "469/469 [==============================] - 5s 11ms/step - loss: 0.0041 - accuracy: 0.9987 - val_loss: 0.0723 - val_accuracy: 0.9865\n",
            "Epoch 18/20\n",
            "469/469 [==============================] - 5s 11ms/step - loss: 0.0016 - accuracy: 0.9995 - val_loss: 0.0761 - val_accuracy: 0.9874\n",
            "Epoch 19/20\n",
            "469/469 [==============================] - 5s 11ms/step - loss: 0.0029 - accuracy: 0.9992 - val_loss: 0.0696 - val_accuracy: 0.9875\n",
            "Epoch 20/20\n",
            "469/469 [==============================] - 5s 11ms/step - loss: 8.5157e-04 - accuracy: 0.9998 - val_loss: 0.0716 - val_accuracy: 0.9874\n"
          ],
          "name": "stdout"
        },
        {
          "output_type": "execute_result",
          "data": {
            "text/plain": [
              "<tensorflow.python.keras.callbacks.History at 0x7fcd95fa2a90>"
            ]
          },
          "metadata": {
            "tags": []
          },
          "execution_count": 18
        }
      ]
    },
    {
      "cell_type": "markdown",
      "metadata": {
        "id": "aoDZfIA3vMnl",
        "colab_type": "text"
      },
      "source": [
        "what we conclude the while doing with one layer of convolution we are getting accuracy of approximately 98 % while adding more layer convolution we are increased our accuracy with some small amount "
      ]
    },
    {
      "cell_type": "code",
      "metadata": {
        "id": "hM6A9cjNvh4g",
        "colab_type": "code",
        "colab": {}
      },
      "source": [
        ""
      ],
      "execution_count": null,
      "outputs": []
    }
  ]
}