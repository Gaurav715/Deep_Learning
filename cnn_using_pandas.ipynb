{
  "nbformat": 4,
  "nbformat_minor": 0,
  "metadata": {
    "colab": {
      "name": "cnn_using_pandas.ipynb",
      "provenance": []
    },
    "kernelspec": {
      "name": "python3",
      "display_name": "Python 3"
    },
    "accelerator": "GPU"
  },
  "cells": [
    {
      "cell_type": "markdown",
      "metadata": {
        "id": "PYVAuIBMwVPZ",
        "colab_type": "text"
      },
      "source": [
        "Import the libraries"
      ]
    },
    {
      "cell_type": "code",
      "metadata": {
        "id": "xWxuI_Rcxqls",
        "colab_type": "code",
        "colab": {}
      },
      "source": [
        "import numpy as np\n",
        "import pandas as pd\n",
        "from tqdm import tqdm\n",
        "from keras.datasets import mnist"
      ],
      "execution_count": 43,
      "outputs": []
    },
    {
      "cell_type": "markdown",
      "metadata": {
        "id": "JaWNw8wIyCia",
        "colab_type": "text"
      },
      "source": [
        "Loading dataset"
      ]
    },
    {
      "cell_type": "code",
      "metadata": {
        "id": "kUTcF84mx7cS",
        "colab_type": "code",
        "colab": {}
      },
      "source": [
        "(x_train , y_train) , (x_test , y_test) = mnist.load_data()"
      ],
      "execution_count": 44,
      "outputs": []
    },
    {
      "cell_type": "markdown",
      "metadata": {
        "id": "EINmaGOKyeD3",
        "colab_type": "text"
      },
      "source": [
        "Selecting a subset of data"
      ]
    },
    {
      "cell_type": "code",
      "metadata": {
        "id": "1x0eI244yQXR",
        "colab_type": "code",
        "colab": {}
      },
      "source": [
        "x_train = x_train[:200]"
      ],
      "execution_count": 45,
      "outputs": []
    },
    {
      "cell_type": "code",
      "metadata": {
        "id": "Zh4Mp3kwyZDA",
        "colab_type": "code",
        "colab": {}
      },
      "source": [
        "y = y_train[:200]"
      ],
      "execution_count": 46,
      "outputs": []
    },
    {
      "cell_type": "code",
      "metadata": {
        "id": "5OubzfK1yaS2",
        "colab_type": "code",
        "colab": {}
      },
      "source": [
        "X = x_train.T\n",
        "X = X/255"
      ],
      "execution_count": 47,
      "outputs": []
    },
    {
      "cell_type": "code",
      "metadata": {
        "id": "gsSkxpOUyq71",
        "colab_type": "code",
        "colab": {}
      },
      "source": [
        "y.resize((200,1))\n",
        "y = y.T"
      ],
      "execution_count": 48,
      "outputs": []
    },
    {
      "cell_type": "markdown",
      "metadata": {
        "id": "v7W8Koehy8xo",
        "colab_type": "text"
      },
      "source": [
        "Checking values"
      ]
    },
    {
      "cell_type": "code",
      "metadata": {
        "id": "R06UYke5y5Qw",
        "colab_type": "code",
        "colab": {
          "base_uri": "https://localhost:8080/",
          "height": 202
        },
        "outputId": "401bcd61-57be-448e-d527-b11bc49b2f10"
      },
      "source": [
        "pd.Series(y[0]).value_counts()"
      ],
      "execution_count": 49,
      "outputs": [
        {
          "output_type": "execute_result",
          "data": {
            "text/plain": [
              "1    26\n",
              "9    23\n",
              "7    21\n",
              "4    21\n",
              "3    21\n",
              "0    21\n",
              "2    20\n",
              "6    19\n",
              "8    15\n",
              "5    13\n",
              "dtype: int64"
            ]
          },
          "metadata": {
            "tags": []
          },
          "execution_count": 49
        }
      ]
    },
    {
      "cell_type": "markdown",
      "metadata": {
        "id": "-KJeO6D0zmlg",
        "colab_type": "text"
      },
      "source": [
        "converting into binary classification "
      ]
    },
    {
      "cell_type": "code",
      "metadata": {
        "id": "4taKYs69zJm_",
        "colab_type": "code",
        "colab": {}
      },
      "source": [
        "for i  in range(y.shape[1]):\n",
        "  if y[0][i] > 4:\n",
        "    y[0][i] = 1\n",
        "  else:\n",
        "    y[0][i] = 0\n"
      ],
      "execution_count": 50,
      "outputs": []
    },
    {
      "cell_type": "markdown",
      "metadata": {
        "id": "klNEzhkt0Cpw",
        "colab_type": "text"
      },
      "source": [
        "Chceking values counts"
      ]
    },
    {
      "cell_type": "code",
      "metadata": {
        "id": "LqlIVdCzz-gQ",
        "colab_type": "code",
        "colab": {
          "base_uri": "https://localhost:8080/",
          "height": 67
        },
        "outputId": "90ca708f-3326-4535-f64f-5f29ab83065d"
      },
      "source": [
        "pd.Series(y[0]).value_counts()"
      ],
      "execution_count": 51,
      "outputs": [
        {
          "output_type": "execute_result",
          "data": {
            "text/plain": [
              "0    109\n",
              "1     91\n",
              "dtype: int64"
            ]
          },
          "metadata": {
            "tags": []
          },
          "execution_count": 51
        }
      ]
    },
    {
      "cell_type": "markdown",
      "metadata": {
        "id": "rmLEOQhbkAVX",
        "colab_type": "text"
      },
      "source": [
        "Initializing filter"
      ]
    },
    {
      "cell_type": "code",
      "metadata": {
        "id": "MPcybjQU0Me7",
        "colab_type": "code",
        "colab": {
          "base_uri": "https://localhost:8080/",
          "height": 370
        },
        "outputId": "d5db1cd8-b71c-4582-b772-1736937d040f"
      },
      "source": [
        "f = np.random.uniform(size = (3,5,5))\n",
        "f = f.T\n",
        "print('Filter 1','\\n',f[:,:,0], '\\n' )\n",
        "print('Filter 2','\\n',f[:,:,1], '\\n' )\n",
        "print('Filter 3','\\n',f[:,:,2], '\\n' )\n"
      ],
      "execution_count": 52,
      "outputs": [
        {
          "output_type": "stream",
          "text": [
            "Filter 1 \n",
            " [[0.86588584 0.71485102 0.87521954 0.09804079 0.06050066]\n",
            " [0.14546274 0.507431   0.50735416 0.87637052 0.52588684]\n",
            " [0.95320896 0.02676922 0.78578819 0.94176799 0.42114781]\n",
            " [0.96964406 0.65903576 0.27781796 0.79368924 0.54711545]\n",
            " [0.53159531 0.74716899 0.97034762 0.02192238 0.33639692]] \n",
            "\n",
            "Filter 2 \n",
            " [[0.60805739 0.98096657 0.92773345 0.65931079 0.03819589]\n",
            " [0.99610089 0.18503006 0.53623186 0.78944866 0.31018941]\n",
            " [0.63776169 0.85540424 0.20838207 0.77557098 0.66669818]\n",
            " [0.44138798 0.272597   0.93457065 0.86490068 0.60227867]\n",
            " [0.87426864 0.4783617  0.38655166 0.95630636 0.40253281]] \n",
            "\n",
            "Filter 3 \n",
            " [[0.05419892 0.11420265 0.70366215 0.79298456 0.00219316]\n",
            " [0.66363017 0.61085552 0.24177697 0.61263503 0.06736363]\n",
            " [0.27277627 0.30611602 0.82537662 0.5444801  0.3332066 ]\n",
            " [0.96704575 0.99715898 0.30702831 0.49361862 0.27935872]\n",
            " [0.57739187 0.46319738 0.05670943 0.05523783 0.22371955]] \n",
            "\n"
          ],
          "name": "stdout"
        }
      ]
    },
    {
      "cell_type": "code",
      "metadata": {
        "id": "wuK9EPjbkNXP",
        "colab_type": "code",
        "colab": {
          "base_uri": "https://localhost:8080/",
          "height": 34
        },
        "outputId": "7e9aa9ec-8127-429e-e18f-4874e59c1665"
      },
      "source": [
        "X.shape , y.shape ,f.shape"
      ],
      "execution_count": 53,
      "outputs": [
        {
          "output_type": "execute_result",
          "data": {
            "text/plain": [
              "((28, 28, 200), (1, 200), (5, 5, 3))"
            ]
          },
          "metadata": {
            "tags": []
          },
          "execution_count": 53
        }
      ]
    },
    {
      "cell_type": "markdown",
      "metadata": {
        "id": "-0gHDgBXlibg",
        "colab_type": "text"
      },
      "source": [
        "Patches of the same dimension"
      ]
    },
    {
      "cell_type": "code",
      "metadata": {
        "id": "Zl0UGtxJlT3_",
        "colab_type": "code",
        "colab": {
          "base_uri": "https://localhost:8080/",
          "height": 34
        },
        "outputId": "5eae06eb-0e81-453a-a1c7-b86b17a44de2"
      },
      "source": [
        "# Generating patches from images\n",
        "new_image = []\n",
        "\n",
        "#for number of images\n",
        "for k in range(X.shape[2]):\n",
        "  #sliding in horizontal direction\n",
        "  for i in range(X.shape[0]-f.shape[0]+1):\n",
        "    #sliding in vertical direction\n",
        "    for j in range(X.shape[1]-f.shape[1]+1):\n",
        "      new_image.append(X[:,:,k][i:i+f.shape[0],j:j+f.shape[1]])\n",
        "\n",
        "#reizing the generated patches as per number of images\n",
        "\n",
        "new_image = np.array(new_image)\n",
        "new_image.resize((X.shape[2],int(new_image.shape[0]/X.shape[2]),new_image.shape[1],new_image.shape[2]))\n",
        "new_image.shape"
      ],
      "execution_count": 54,
      "outputs": [
        {
          "output_type": "execute_result",
          "data": {
            "text/plain": [
              "(200, 576, 5, 5)"
            ]
          },
          "metadata": {
            "tags": []
          },
          "execution_count": 54
        }
      ]
    },
    {
      "cell_type": "markdown",
      "metadata": {
        "id": "ZNuWJUNynY5y",
        "colab_type": "text"
      },
      "source": [
        "Let us initialize the weight matrix"
      ]
    },
    {
      "cell_type": "code",
      "metadata": {
        "id": "uN4-bcUcnFrD",
        "colab_type": "code",
        "colab": {}
      },
      "source": [
        "#number of features in data set\n",
        "\n",
        "s_row = X.shape[0] - f.shape[0]+1\n",
        "s_col = X.shape[1] - f.shape[1]+1\n",
        "num_filter = f.shape[2]\n",
        "\n",
        "inputlayer_neurons = (s_row)*(s_col)*(num_filter)\n",
        "output_neurons = 1\n",
        "\n",
        "#initializing weight\n",
        "wo = np.random.uniform(size = (inputlayer_neurons,output_neurons))\n"
      ],
      "execution_count": 55,
      "outputs": []
    },
    {
      "cell_type": "markdown",
      "metadata": {
        "id": "zBuw_ho-oXwS",
        "colab_type": "text"
      },
      "source": [
        "Convolution neural network"
      ]
    },
    {
      "cell_type": "code",
      "metadata": {
        "id": "k6H5xszVoGAg",
        "colab_type": "code",
        "colab": {}
      },
      "source": [
        "#defining the sigmoid function\n",
        "def sigmoid (x):\n",
        "  return 1/(1+np.exp(-x))\n",
        "\n",
        "#derivative of sigmoid function\n",
        "def derivative_sigmoid(x):\n",
        "  return x*(1-x)"
      ],
      "execution_count": 56,
      "outputs": []
    },
    {
      "cell_type": "markdown",
      "metadata": {
        "id": "ji29t3eNoxMo",
        "colab_type": "text"
      },
      "source": [
        "Apply the Sigmoid activation function"
      ]
    },
    {
      "cell_type": "code",
      "metadata": {
        "id": "h_1nxMa1oufz",
        "colab_type": "code",
        "colab": {
          "base_uri": "https://localhost:8080/",
          "height": 34
        },
        "outputId": "867838b6-af46-4e18-9116-5f7d2ddc0085"
      },
      "source": [
        "#generating output of convolution layer\n",
        "filter_output = []\n",
        "\n",
        "#for each image\n",
        "\n",
        "for i in range(len(new_image)):\n",
        "  #apply each filter \n",
        "  for k in range(f.shape[2]):\n",
        "    #do element wise multiplication\n",
        "    for j in range(new_image.shape[1]):\n",
        "      filter_output.append((new_image[i][j]*f[:,: ,k]).sum())\n",
        "\n",
        "filter_output = np.resize(np.array(filter_output),(len(new_image),f.shape[2],new_image.shape[1]))\n",
        "\n",
        "#applying actiavtion over convolution output\n",
        "filter_output_sigmoid = sigmoid(filter_output)\n",
        "\n",
        "filter_output.shape,filter_output_sigmoid.shape"
      ],
      "execution_count": 57,
      "outputs": [
        {
          "output_type": "execute_result",
          "data": {
            "text/plain": [
              "((200, 3, 576), (200, 3, 576))"
            ]
          },
          "metadata": {
            "tags": []
          },
          "execution_count": 57
        }
      ]
    },
    {
      "cell_type": "markdown",
      "metadata": {
        "id": "XSdUMPGIqHqZ",
        "colab_type": "text"
      },
      "source": [
        "Applying the linear transformation and activation function on this data"
      ]
    },
    {
      "cell_type": "code",
      "metadata": {
        "id": "XgP35OVKpd7w",
        "colab_type": "code",
        "colab": {}
      },
      "source": [
        "#generating input for fully connected layer\n",
        "filter_output_sigmoid = filter_output_sigmoid.reshape((\n",
        "filter_output_sigmoid.shape[0],\n",
        "filter_output_sigmoid.shape[1]  * filter_output_sigmoid.shape[2]\n",
        "))\n",
        "filter_output_sigmoid = filter_output_sigmoid.T\n",
        "\n",
        "# linaer transformation for fully connected layer\n",
        "output_layer_input = np.dot(wo.T,filter_output_sigmoid)\n",
        "output_layer_input =(output_layer_input-np.average(output_layer_input))/np.std(output_layer_input)\n",
        "\n",
        "#activation function\n",
        "output = sigmoid(output_layer_input)"
      ],
      "execution_count": 58,
      "outputs": []
    },
    {
      "cell_type": "markdown",
      "metadata": {
        "id": "qxGp7wlts5_5",
        "colab_type": "text"
      },
      "source": [
        "Backward Propagation"
      ]
    },
    {
      "cell_type": "code",
      "metadata": {
        "id": "4t2CX0xNrKzO",
        "colab_type": "code",
        "colab": {}
      },
      "source": [
        "#error \n",
        "error = np.square(y-output)/2\n",
        "\n",
        "#error w.r.t output (Gradient)\n",
        "error_wrt_output = -(y-output)\n",
        "\n",
        "#error w.r.t sigmoaid transformation (output_layer_input)\n",
        "output_wrt_output_layer_input = output * (1-output)\n",
        "\n",
        "#error w.r.t weight\n",
        "output_wrt_w = filter_output_sigmoid\n"
      ],
      "execution_count": 59,
      "outputs": []
    },
    {
      "cell_type": "markdown",
      "metadata": {
        "id": "uD5xQgaR9qzn",
        "colab_type": "text"
      },
      "source": [
        "Derivative of backward propagation"
      ]
    },
    {
      "cell_type": "code",
      "metadata": {
        "id": "gmfZXgS7tAmH",
        "colab_type": "code",
        "colab": {}
      },
      "source": [
        "#Error w.r.t sigmoid output\n",
        "output_layer_input_wrt_filter_output_sigmoid = wo.T\n",
        "\n",
        "#Erroe w.r.t sigmoid transformation\n",
        "filter_output_sigmoid_wrt_filter_output = filter_output_sigmoid * (1-filter_output_sigmoid)\n",
        "\n",
        "\n",
        "#calculating derivatives for backprop convolution\n",
        "\n",
        "error_wrt_filter_output = np.dot(output_layer_input_wrt_filter_output_sigmoid.T,\n",
        "                                 error_wrt_output * output_wrt_output_layer_input)*filter_output_sigmoid_wrt_filter_output\n",
        "\n",
        "error_wrt_filter_output = np.average(error_wrt_filter_output ,axis = 1)\n",
        "\n",
        "error_wrt_filter_output = np.resize(error_wrt_filter_output,\n",
        "                                    (X.shape[0]-f.shape[0]+1,X.shape[1]-f.shape[1]+1,f.shape[2]))\n",
        "\n"
      ],
      "execution_count": 60,
      "outputs": []
    },
    {
      "cell_type": "markdown",
      "metadata": {
        "id": "_S5G8j9b_qce",
        "colab_type": "text"
      },
      "source": [
        "Convolution Process"
      ]
    },
    {
      "cell_type": "code",
      "metadata": {
        "id": "J3KtxXzP-tQB",
        "colab_type": "code",
        "colab": {}
      },
      "source": [
        "filter_update = []\n",
        "for i in range(f.shape[2]):\n",
        "  for j in range(f.shape[0]):\n",
        "    for k in range(f.shape[1]):\n",
        "      temp = 0\n",
        "      spos_row = j\n",
        "      spos_col = k\n",
        "      epos_row = spos_row + s_row\n",
        "      epos_col = spos_col + s_col\n",
        "      for l in range(X.shape[2]):\n",
        "        temp = temp +  X[spos_row:epos_row,spos_col : epos_col,1]*error_wrt_filter_output[:,:,i].sum() \n",
        "filter_update.append(temp/X.shape[2])\n",
        "filter_update_array = np.array(filter_update)\n",
        "filter_update_array = np.resize(filter_update_array ,(f.shape[2],f.shape[0],f.shape[1]))"
      ],
      "execution_count": 61,
      "outputs": []
    },
    {
      "cell_type": "markdown",
      "metadata": {
        "id": "AhIg8K0dClC0",
        "colab_type": "text"
      },
      "source": [
        "Update the error"
      ]
    },
    {
      "cell_type": "code",
      "metadata": {
        "id": "pgaA5w1dBNNz",
        "colab_type": "code",
        "colab": {
          "base_uri": "https://localhost:8080/",
          "height": 178
        },
        "outputId": "445b65f5-32bb-4f9d-d014-eea1572d8ab8"
      },
      "source": [
        "for i in range(f.shape[2]):\n",
        "  f[:,:,i] = f[:,:,i] -  lr * filter_update_array[i]"
      ],
      "execution_count": 66,
      "outputs": [
        {
          "output_type": "error",
          "ename": "NameError",
          "evalue": "ignored",
          "traceback": [
            "\u001b[0;31m---------------------------------------------------------------------------\u001b[0m",
            "\u001b[0;31mNameError\u001b[0m                                 Traceback (most recent call last)",
            "\u001b[0;32m<ipython-input-66-c16ce26a8306>\u001b[0m in \u001b[0;36m<module>\u001b[0;34m()\u001b[0m\n\u001b[1;32m      1\u001b[0m \u001b[0;32mfor\u001b[0m \u001b[0mi\u001b[0m \u001b[0;32min\u001b[0m \u001b[0mrange\u001b[0m\u001b[0;34m(\u001b[0m\u001b[0mf\u001b[0m\u001b[0;34m.\u001b[0m\u001b[0mshape\u001b[0m\u001b[0;34m[\u001b[0m\u001b[0;36m2\u001b[0m\u001b[0;34m]\u001b[0m\u001b[0;34m)\u001b[0m\u001b[0;34m:\u001b[0m\u001b[0;34m\u001b[0m\u001b[0;34m\u001b[0m\u001b[0m\n\u001b[0;32m----> 2\u001b[0;31m   \u001b[0mf\u001b[0m\u001b[0;34m[\u001b[0m\u001b[0;34m:\u001b[0m\u001b[0;34m,\u001b[0m\u001b[0;34m:\u001b[0m\u001b[0;34m,\u001b[0m\u001b[0mi\u001b[0m\u001b[0;34m]\u001b[0m \u001b[0;34m=\u001b[0m \u001b[0mf\u001b[0m\u001b[0;34m[\u001b[0m\u001b[0;34m:\u001b[0m\u001b[0;34m,\u001b[0m\u001b[0;34m:\u001b[0m\u001b[0;34m,\u001b[0m\u001b[0mi\u001b[0m\u001b[0;34m]\u001b[0m \u001b[0;34m-\u001b[0m  \u001b[0mlr\u001b[0m \u001b[0;34m*\u001b[0m \u001b[0mfilter_update_array\u001b[0m\u001b[0;34m[\u001b[0m\u001b[0mi\u001b[0m\u001b[0;34m]\u001b[0m\u001b[0;34m\u001b[0m\u001b[0;34m\u001b[0m\u001b[0m\n\u001b[0m",
            "\u001b[0;31mNameError\u001b[0m: name 'lr' is not defined"
          ]
        }
      ]
    },
    {
      "cell_type": "code",
      "metadata": {
        "id": "YELE6KVdCzn9",
        "colab_type": "code",
        "colab": {}
      },
      "source": [
        ""
      ],
      "execution_count": 62,
      "outputs": []
    }
  ]
}